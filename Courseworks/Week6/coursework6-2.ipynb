{
 "cells": [
  {
   "cell_type": "markdown",
   "metadata": {},
   "source": [
    "Before you turn this problem in, make sure everything runs as expected. First, **restart the kernel** (in the menubar, select Kernel$\\rightarrow$Restart) and then **run all cells** (in the menubar, select Cell$\\rightarrow$Run All).\n",
    "\n",
    "Make sure you fill in any place that says `YOUR CODE HERE` or \"YOUR ANSWER HERE\", as well as your name and collaborators below:"
   ]
  },
  {
   "cell_type": "code",
   "execution_count": null,
   "metadata": {},
   "outputs": [],
   "source": [
    "NAME = \"\"\n",
    "COLLABORATORS = \"\""
   ]
  },
  {
   "cell_type": "markdown",
   "metadata": {},
   "source": [
    "---"
   ]
  },
  {
   "cell_type": "markdown",
   "metadata": {
    "deletable": false,
    "editable": false,
    "nbgrader": {
     "cell_type": "markdown",
     "checksum": "32ef41025a86877ecd8e241e09cf9a72",
     "grade": false,
     "grade_id": "cell-97ba0868e25e9b6b",
     "locked": true,
     "schema_version": 3,
     "solution": false,
     "task": false
    }
   },
   "source": [
    "# MTH793P - Coursework 6-2\n",
    "\n",
    "This is a template notebook for the computational exercises of Coursework 6, part **2/2** of the module MTH793P, Advanced machine learning. Closely follow the instructions in this template in order to complete the assessment and to obtain full marks. For the submitted notebook, please only modify cells where you are instructed to do so. Failure to comply may result in unexpected errors that can lead to mark deductions.\n",
    "\n",
    "In this part we will implement and explore PCA.\n",
    "\n",
    "**<font color='red'>IMPORTANT NOTE:</font>**<br>\n",
    "When using **svd** in this part, always pass the parameter: **<font color='red'>full_matrices=False</font>**.\n",
    "This is important to speed up the computations.\n"
   ]
  },
  {
   "cell_type": "code",
   "execution_count": null,
   "metadata": {
    "deletable": false,
    "editable": false,
    "nbgrader": {
     "cell_type": "code",
     "checksum": "edb71ff63bc67215597b90e07740e2f6",
     "grade": false,
     "grade_id": "cell-a0c9a4475dedab74",
     "locked": true,
     "schema_version": 3,
     "solution": false,
     "task": false
    }
   },
   "outputs": [],
   "source": [
    "### \n",
    "### Required imports\n",
    "###\n",
    "\n",
    "import numpy as np\n",
    "import matplotlib.pyplot as plt\n",
    "from sklearn.preprocessing import StandardScaler\n",
    "from sklearn.datasets import load_wine\n",
    "from numpy.linalg import svd\n",
    "from scipy import io\n",
    "\n",
    "from numpy.testing import assert_almost_equal\n",
    "\n",
    "%matplotlib inline"
   ]
  },
  {
   "cell_type": "markdown",
   "metadata": {
    "deletable": false,
    "editable": false,
    "nbgrader": {
     "cell_type": "markdown",
     "checksum": "16ced1229005feaadb4a82005442b807",
     "grade": false,
     "grade_id": "cell-5cde042df3c78ca2",
     "locked": true,
     "schema_version": 3,
     "solution": false,
     "task": false
    }
   },
   "source": [
    "## PCA for dimension reduction\n",
    "We will first demonstrate PCA on a 13-dimensional dataset, by loading wine dataset from sklearn, see info [here](https://scikit-learn.org/stable/datasets/toy_dataset.html#wine-dataset). <br>\n",
    "This dataset contains chemical analysis of N=178 different wines by three different cultivators.\n",
    "<br>\n",
    "The analysis contains the folowing measurements:\n",
    "<dd class=\"field-odd\"><ul class=\"simple\">\n",
    "<li><p>Alcohol</p></li>\n",
    "<li><p>Malic acid</p></li>\n",
    "<li><p>Ash</p></li>\n",
    "<li><p>Alcalinity of ash</p></li>\n",
    "<li><p>Magnesium</p></li>\n",
    "<li><p>Total phenols</p></li>\n",
    "<li><p>Flavanoids</p></li>\n",
    "<li><p>Nonflavanoid phenols</p></li>\n",
    "<li><p>Proanthocyanins</p></li>\n",
    "<li><p>Colour intensity</p></li>\n",
    "<li><p>Hue</p></li>\n",
    "<li><p>OD280/OD315 of diluted wines</p></li>\n",
    "<li><p>Proline</p></li>\n",
    "</ul>\n",
    "</dd>\n",
    "</dl>\n",
    "\n",
    "So overall, we have N=178 data points, lying in $\\mathbb{R}^{D}$, with D=13. We stack all points together into a matrix **<font color='red'>X_wine</font>** $\\in \\mathbb{R}^{D\\times N}$.<br>\n",
    "We have labels 0,1, or 2 for each wine (clutivator). The true labels are given in **<font color='red'>L_wine</font>**.<br>\n",
    "We want to see whether PCA can be helpful in the unsupervised task of clustering the 178 wines.\n",
    "\n",
    "We start by loading the dataset, and printing the first 5 data points, just to get a general impression."
   ]
  },
  {
   "cell_type": "code",
   "execution_count": null,
   "metadata": {
    "deletable": false,
    "editable": false,
    "nbgrader": {
     "cell_type": "code",
     "checksum": "f0a44ad2c2adafaf3d707cba9b00dc9d",
     "grade": false,
     "grade_id": "cell-de10fd865ab51b1c",
     "locked": true,
     "schema_version": 3,
     "solution": false,
     "task": false
    }
   },
   "outputs": [],
   "source": [
    "X_wine, L_wine = load_wine(return_X_y=True)\n",
    "X_wine = X_wine.T\n",
    "np.set_printoptions(suppress=True)\n",
    "\n",
    "print('First 5 data points:')\n",
    "print('--------------------')\n",
    "print(X_wine[:,0:5])"
   ]
  },
  {
   "cell_type": "markdown",
   "metadata": {
    "deletable": false,
    "editable": false,
    "nbgrader": {
     "cell_type": "markdown",
     "checksum": "f8a45e81f1e5c0ac2c999b2cb74675bb",
     "grade": false,
     "grade_id": "cell-bf762d9b5c6b5d95",
     "locked": true,
     "schema_version": 3,
     "solution": false,
     "task": false
    }
   },
   "source": [
    "Write a function called **<font color='red'>pc_transform</font>**. The inputs of this functions are:\n",
    "* **<font color='red'>X</font>** - the data matrix ($D\\times N$)\n",
    "* **<font color='red'>PCS</font>** - a list of indexes for the principal components we want to use.\n",
    "The function should compute the principal components listed in **PCS**, and then return the projection of **X** on these principal components.<br>\n",
    "\n",
    "For example, **get_transform(X, \\[0,4\\])** should return the projection of **X** on the **first** and **fifth** principal components."
   ]
  },
  {
   "cell_type": "code",
   "execution_count": null,
   "metadata": {
    "deletable": false,
    "nbgrader": {
     "cell_type": "code",
     "checksum": "050c2da80de051164f0e592d2ee86b36",
     "grade": false,
     "grade_id": "cell-8748ea089f4f12c4",
     "locked": false,
     "schema_version": 3,
     "solution": true,
     "task": false
    }
   },
   "outputs": [],
   "source": [
    "def pc_transform(X, PCS):\n",
    "# YOUR CODE HERE\n",
    "raise NotImplementedError()"
   ]
  },
  {
   "cell_type": "markdown",
   "metadata": {
    "deletable": false,
    "editable": false,
    "nbgrader": {
     "cell_type": "markdown",
     "checksum": "975052133789c8fe8f32f3d70b6ed600",
     "grade": false,
     "grade_id": "cell-32a88e9c8e229866",
     "locked": true,
     "schema_version": 3,
     "solution": false,
     "task": false
    }
   },
   "source": [
    "The next box contains a sanity check to see that your function works properly."
   ]
  },
  {
   "cell_type": "code",
   "execution_count": null,
   "metadata": {
    "deletable": false,
    "editable": false,
    "nbgrader": {
     "cell_type": "code",
     "checksum": "b4bd5e9a5d909d2096729ae606508a9d",
     "grade": true,
     "grade_id": "cell-f69996274b17d125",
     "locked": true,
     "points": 1,
     "schema_version": 3,
     "solution": false,
     "task": false
    }
   },
   "outputs": [],
   "source": [
    "X_test = np.array([[1,4,3,2],[4,6,7,3],[2,0,7,1]])\n",
    "U_test = pc_transform(X_test, [0,2])\n",
    "RES = np.array([[ -4.49780587,  -6.27877721, -10.02650226,  -3.61725016],\n",
    " [ -0.87620088,   0.09313905,   0.24070169,   0.26063614]])\n",
    "\n",
    "assert_almost_equal(U_test, RES)\n",
    "\n",
    "### DO NOT EDIT THIS CELL ###"
   ]
  },
  {
   "cell_type": "markdown",
   "metadata": {
    "deletable": false,
    "editable": false,
    "nbgrader": {
     "cell_type": "markdown",
     "checksum": "166aca55f3c1c1b9a1636b9d26730c5a",
     "grade": false,
     "grade_id": "cell-cb83e2bf05845317",
     "locked": true,
     "schema_version": 3,
     "solution": false,
     "task": false
    }
   },
   "source": [
    "Compute the projection of **X_wine** along the first 2 principal components.\n",
    "Place the result in a matrix **<font color='red'>Y</font>** $\\in \\mathbb{R}^{2\\times N}$. <br>\n",
    "We then plot the projected points, and colour them according to the original labels.<br>\n",
    "\n",
    "**<font color='blue'>Q:</font>** What do you think, is this projection helpful for clustering?"
   ]
  },
  {
   "cell_type": "code",
   "execution_count": null,
   "metadata": {
    "deletable": false,
    "nbgrader": {
     "cell_type": "code",
     "checksum": "3969b9fa106bf7515e03b22292d0998f",
     "grade": false,
     "grade_id": "cell-440b1f14532c5b48",
     "locked": false,
     "schema_version": 3,
     "solution": true,
     "task": false
    }
   },
   "outputs": [],
   "source": [
    "# YOUR CODE HERE\n",
    "raise NotImplementedError()\n",
    "plt.scatter(Y[0,:], Y[1,:], c=L_wine);"
   ]
  },
  {
   "cell_type": "code",
   "execution_count": null,
   "metadata": {
    "deletable": false,
    "editable": false,
    "nbgrader": {
     "cell_type": "code",
     "checksum": "1c64c3131d1c326799260623f2999b58",
     "grade": true,
     "grade_id": "cell-5f18c37ad6ae35f7",
     "locked": true,
     "points": 0.5,
     "schema_version": 3,
     "solution": false,
     "task": false
    }
   },
   "outputs": [],
   "source": [
    "### DO NOT REMOVE/EDIT THIS CELL ###"
   ]
  },
  {
   "cell_type": "markdown",
   "metadata": {
    "deletable": false,
    "editable": false,
    "nbgrader": {
     "cell_type": "markdown",
     "checksum": "645e88c095f29adebd8b3eb88440b886",
     "grade": false,
     "grade_id": "cell-aad2eba3b7fba36e",
     "locked": true,
     "schema_version": 3,
     "solution": false,
     "task": false
    }
   },
   "source": [
    "We will now try to improve the result by normalisation.<br>\n",
    "The idea is that we take each row of **X_wine**, and standartise it to have mean 0 and variance 1.<br>\n",
    "\n",
    "**<font color='blue'>Q:</font>** Why might we want to do that? (HINT: take a look at the columns printed above).<br><br>\n",
    "You man use the class **StandardScaler** from **sklearn.preprocessing** to do so (already imported). <br>\n",
    "Place the standartised version of **X_wine** in a matrix called **<font color='red'>XS</font>**. Then compute the first 2 principal componets for **XS**, and place the result into **<font color='red'>YS</font>**. <br>\n",
    "**NOTE:** Make sure you are normalising the **rows** and not the **columns**\n",
    "\n",
    "**<font color='blue'>Q:</font>** Is this a better representation for the data?"
   ]
  },
  {
   "cell_type": "code",
   "execution_count": null,
   "metadata": {
    "deletable": false,
    "nbgrader": {
     "cell_type": "code",
     "checksum": "27b2dd2e7772ebe114deabb85be643a8",
     "grade": false,
     "grade_id": "cell-5534d4d6646971c1",
     "locked": false,
     "schema_version": 3,
     "solution": true,
     "task": false
    }
   },
   "outputs": [],
   "source": [
    "# YOUR CODE HERE\n",
    "raise NotImplementedError()\n",
    "\n",
    "plt.scatter(YS[0,:], YS[1,:], c=L_wine);"
   ]
  },
  {
   "cell_type": "code",
   "execution_count": null,
   "metadata": {
    "deletable": false,
    "editable": false,
    "nbgrader": {
     "cell_type": "code",
     "checksum": "cd9d3533774e155eac969af0f05472bd",
     "grade": true,
     "grade_id": "cell-229a212b10a0a148",
     "locked": true,
     "points": 0.5,
     "schema_version": 3,
     "solution": false,
     "task": false
    }
   },
   "outputs": [],
   "source": [
    "### DO NOT REMOVE/EDIT THIS CELL ###"
   ]
  },
  {
   "cell_type": "markdown",
   "metadata": {
    "deletable": false,
    "editable": false,
    "nbgrader": {
     "cell_type": "markdown",
     "checksum": "517972cc2f55bd6b2fe5c2cd5e160ce7",
     "grade": false,
     "grade_id": "cell-2a4cb03fcda82fe6",
     "locked": true,
     "schema_version": 3,
     "solution": false,
     "task": false
    }
   },
   "source": [
    "## PCA for eigenfaces\n",
    "\n",
    "In this part, we work with a dataset consisting of numerous faces and create a basis of so-called eigenfaces.<br>\n",
    "The images are 192x168, and are stored as vectors of length 32,256."
   ]
  },
  {
   "cell_type": "markdown",
   "metadata": {
    "deletable": false,
    "editable": false,
    "nbgrader": {
     "cell_type": "markdown",
     "checksum": "9153fb8cfea3c6cbfe89275d2e0bbab2",
     "grade": false,
     "grade_id": "cell-30fa4ea80d50a983",
     "locked": true,
     "schema_version": 3,
     "solution": false,
     "task": false
    }
   },
   "source": [
    "This utility function will just let us convert an image from vector to matrix representation, so it can be showed on the screen."
   ]
  },
  {
   "cell_type": "code",
   "execution_count": null,
   "metadata": {
    "deletable": false,
    "editable": false,
    "nbgrader": {
     "cell_type": "code",
     "checksum": "37e4ff4269865ec9c18d9e99504f7b0c",
     "grade": false,
     "grade_id": "cell-aa6da4b589bbf1bc",
     "locked": true,
     "schema_version": 3,
     "solution": false,
     "task": false
    }
   },
   "outputs": [],
   "source": [
    "def vec2img(vec):\n",
    "    return np.reshape(vec,(168,192)).T"
   ]
  },
  {
   "cell_type": "markdown",
   "metadata": {
    "deletable": false,
    "editable": false,
    "nbgrader": {
     "cell_type": "markdown",
     "checksum": "f456176a2d15f73d84151966e678737b",
     "grade": false,
     "grade_id": "cell-51057a081f95e18f",
     "locked": true,
     "schema_version": 3,
     "solution": false,
     "task": false
    }
   },
   "source": [
    "We load the faces database.<br>\n",
    "**<font color='red'>FACES</font>** - a where each entry is a collection of images of a single person <br>\n",
    "**<font color='red'>NPEOPLE</font>** - number of people in the list (should be 20)<br>\n",
    "**<font color='red'>NFACES</font>** - number of images per person (should be 64)"
   ]
  },
  {
   "cell_type": "code",
   "execution_count": null,
   "metadata": {
    "deletable": false,
    "editable": false,
    "nbgrader": {
     "cell_type": "code",
     "checksum": "5022ed6c116a4d59d447fd7a6308b1a4",
     "grade": false,
     "grade_id": "cell-7874d15ff7eced7e",
     "locked": true,
     "schema_version": 3,
     "solution": false,
     "task": false
    }
   },
   "outputs": [],
   "source": [
    "f = open('faces.npy','rb')\n",
    "FACES = np.load(f)\n",
    "NPEOPLE = len(FACES)\n",
    "NFACES = 64\n",
    "NR = int(np.sqrt(NFACES))\n",
    "f.close()"
   ]
  },
  {
   "cell_type": "markdown",
   "metadata": {
    "deletable": false,
    "editable": false,
    "nbgrader": {
     "cell_type": "markdown",
     "checksum": "858d0ba7b49f583bfb714056c0d7b556",
     "grade": false,
     "grade_id": "cell-2382db2f76e95dc0",
     "locked": true,
     "schema_version": 3,
     "solution": false,
     "task": false
    }
   },
   "source": [
    "First, we will examine the photos of a **single** person.<br>\n",
    "**<font color='red'>PI</font>** - the index of the person we examine. <br>\n",
    "**<font color='red'>X_person</font>** - the data matrix, containing all images of person PI, as columns.<br>\n",
    "\n",
    "You can change **PI** as you wish, to experiment with the photos of different people.\n",
    "\n",
    "We start by presenting all the photos. "
   ]
  },
  {
   "cell_type": "code",
   "execution_count": null,
   "metadata": {},
   "outputs": [],
   "source": [
    "PI = 1"
   ]
  },
  {
   "cell_type": "code",
   "execution_count": null,
   "metadata": {
    "deletable": false,
    "editable": false,
    "nbgrader": {
     "cell_type": "code",
     "checksum": "67106432fdbc1232f498c6100cca4c6c",
     "grade": false,
     "grade_id": "cell-5918c9dafed92f82",
     "locked": true,
     "schema_version": 3,
     "solution": false,
     "task": false
    }
   },
   "outputs": [],
   "source": [
    "X_person =  FACES[PI]\n",
    "         \n",
    "plt.figure(figsize=(15,15))\n",
    "for i in range(NFACES):\n",
    "    im = vec2img(X_person[:,i])\n",
    "    plt.subplot(NR,NR,i+1)\n",
    "    plt.imshow(im,cmap='gray')\n",
    "    plt.axis('off')"
   ]
  },
  {
   "cell_type": "markdown",
   "metadata": {
    "deletable": false,
    "editable": false,
    "nbgrader": {
     "cell_type": "markdown",
     "checksum": "4a4b5b3d23bc7b2869affb323a5118d6",
     "grade": false,
     "grade_id": "cell-6c54379911c78332",
     "locked": true,
     "schema_version": 3,
     "solution": false,
     "task": false
    }
   },
   "source": [
    "Next, we want to find the \"**eigenfaces**\", i.e., the principal components of this collection of images.<br>\n",
    "When using PCA, we should do all the processing for the **cetnered** data, i.e., with mean 0.\n",
    "Therefore, take the following steps:\n",
    "1. Define **<font color='red'>M_person</font>** to be the mean of all images in **X_person** (should be a 32,256-dimensional vector).\n",
    "1. Subtract **M_person** from all images. Place the result in **<font color='red'>XZ_person</font>**.\n",
    "1. Find the left-singular vectors of **XZ_person** (i.e., the matrix U in the SVD). Place the result in **<font color='red'>U_person</font>**.\n",
    "\n",
    "At the end of this process, the columns of **U_person** should represent the **eigenfaces**.<br>"
   ]
  },
  {
   "cell_type": "code",
   "execution_count": null,
   "metadata": {
    "deletable": false,
    "nbgrader": {
     "cell_type": "code",
     "checksum": "60e3f0e8d48ec01ee51e12da4bef64ce",
     "grade": false,
     "grade_id": "cell-be633875a1a1a060",
     "locked": false,
     "schema_version": 3,
     "solution": true,
     "task": false
    }
   },
   "outputs": [],
   "source": [
    "# YOUR CODE HERE\n",
    "raise NotImplementedError()"
   ]
  },
  {
   "cell_type": "markdown",
   "metadata": {
    "deletable": false,
    "editable": false,
    "nbgrader": {
     "cell_type": "markdown",
     "checksum": "781aa16029934fb1f54c55777b634247",
     "grade": false,
     "grade_id": "cell-65083f7ca363949b",
     "locked": true,
     "schema_version": 3,
     "solution": false,
     "task": false
    }
   },
   "source": [
    "We will present the mean face **M_person** along with the first 15 eigenfaces in **U_person**."
   ]
  },
  {
   "cell_type": "code",
   "execution_count": null,
   "metadata": {
    "deletable": false,
    "editable": false,
    "nbgrader": {
     "cell_type": "code",
     "checksum": "f0951dc41d7589fcea899fb71f087946",
     "grade": false,
     "grade_id": "cell-907b321792081d8d",
     "locked": true,
     "schema_version": 3,
     "solution": false,
     "task": false
    }
   },
   "outputs": [],
   "source": [
    "plt.figure(figsize=(15,15))\n",
    "\n",
    "plt.subplot(4,4,1)\n",
    "plt.imshow(vec2img(M_person), cmap='gray')\n",
    "plt.axis('off')\n",
    "plt.title('mean')\n",
    "\n",
    "for i in range(15):\n",
    "    plt.subplot(4,4,i+2)\n",
    "    plt.imshow(vec2img(U_person[:,i]), cmap='gray')\n",
    "    plt.axis('off')\n",
    "    plt.title('$u_{%i}$' % (i+1))"
   ]
  },
  {
   "cell_type": "code",
   "execution_count": null,
   "metadata": {
    "deletable": false,
    "editable": false,
    "nbgrader": {
     "cell_type": "code",
     "checksum": "6b6fd1388e5639af4a9a5abd2c2bf9f4",
     "grade": true,
     "grade_id": "cell-5ae2314d94c52d2f",
     "locked": true,
     "points": 1,
     "schema_version": 3,
     "solution": false,
     "task": false
    }
   },
   "outputs": [],
   "source": [
    "### DO NOT REMOVE/EDIT THIS CELL ###"
   ]
  },
  {
   "cell_type": "markdown",
   "metadata": {
    "deletable": false,
    "editable": false,
    "nbgrader": {
     "cell_type": "markdown",
     "checksum": "d8502072ae89919f562f6775e276cf77",
     "grade": false,
     "grade_id": "cell-7879861edafd891f",
     "locked": true,
     "schema_version": 3,
     "solution": false,
     "task": false
    }
   },
   "source": [
    "Next, we want to try to get a feeling for what some of the eigenfaces represent.<br>\n",
    "We start by exploring the role of the first 2 eigenfaces.<br>\n",
    "To do so, we compute the reconstruction of **XZ_person** based on the first two principal components. We then add back the mean **M_person**.<br> The result should be placed in **<font color='red'>X12</font>**."
   ]
  },
  {
   "cell_type": "code",
   "execution_count": null,
   "metadata": {
    "deletable": false,
    "nbgrader": {
     "cell_type": "code",
     "checksum": "fbb3d34de8a4f694202b24877c84b119",
     "grade": false,
     "grade_id": "cell-b2b2290583eb4917",
     "locked": false,
     "schema_version": 3,
     "solution": true,
     "task": false
    }
   },
   "outputs": [],
   "source": [
    "# YOUR CODE HERE\n",
    "raise NotImplementedError()"
   ]
  },
  {
   "cell_type": "markdown",
   "metadata": {
    "deletable": false,
    "editable": false,
    "nbgrader": {
     "cell_type": "markdown",
     "checksum": "15ef945a130a0b3ddfc41e3a6d23251a",
     "grade": false,
     "grade_id": "cell-a59dbd7edc323f3c",
     "locked": true,
     "schema_version": 3,
     "solution": false,
     "task": false
    }
   },
   "source": [
    "We present the results for all the images. <br>\n",
    "**<font color='blue'>Q:</font>** Can you notice the effect of these two eigenfaces? "
   ]
  },
  {
   "cell_type": "code",
   "execution_count": null,
   "metadata": {
    "deletable": false,
    "editable": false,
    "nbgrader": {
     "cell_type": "code",
     "checksum": "fec208ffbefb1871378e0d60507ee25d",
     "grade": false,
     "grade_id": "cell-8f3d23f2a4c30bc8",
     "locked": true,
     "schema_version": 3,
     "solution": false,
     "task": false
    }
   },
   "outputs": [],
   "source": [
    "plt.figure(figsize=(15,15))\n",
    "for i in range(NFACES):\n",
    "    im = vec2img(X12[:,i])\n",
    "    plt.subplot(NR,NR,i+1)\n",
    "    plt.imshow(im,cmap='gray')\n",
    "    plt.axis('off')"
   ]
  },
  {
   "cell_type": "code",
   "execution_count": null,
   "metadata": {
    "deletable": false,
    "editable": false,
    "nbgrader": {
     "cell_type": "code",
     "checksum": "1135a83418bda03cb4a29adfc25d3e92",
     "grade": true,
     "grade_id": "cell-95e1d6a4cf3f848b",
     "locked": true,
     "points": 1,
     "schema_version": 3,
     "solution": false,
     "task": false
    }
   },
   "outputs": [],
   "source": [
    "### DO NOT REMOVE/EDIT THIS CELL ###"
   ]
  },
  {
   "cell_type": "markdown",
   "metadata": {},
   "source": [
    "Next, we will do the same but for the 3rd and 4th eigenfaces. Place the result in **<font color='red'>X34</font>**."
   ]
  },
  {
   "cell_type": "code",
   "execution_count": null,
   "metadata": {
    "deletable": false,
    "nbgrader": {
     "cell_type": "code",
     "checksum": "3009182d6cda097493053c4a4b10955a",
     "grade": false,
     "grade_id": "cell-475e25a2ffa04144",
     "locked": false,
     "schema_version": 3,
     "solution": true,
     "task": false
    }
   },
   "outputs": [],
   "source": [
    "# YOUR CODE HERE\n",
    "raise NotImplementedError()"
   ]
  },
  {
   "cell_type": "markdown",
   "metadata": {
    "deletable": false,
    "editable": false,
    "nbgrader": {
     "cell_type": "markdown",
     "checksum": "2ec669919226b2b99c6b5fce2c13b0a2",
     "grade": false,
     "grade_id": "cell-fe63c80179604d35",
     "locked": true,
     "schema_version": 3,
     "solution": false,
     "task": false
    }
   },
   "source": [
    "**<font color='blue'>Q:</font>** Can you notice the effect of these two eigenfaces? Is it the same or different than the previous two?"
   ]
  },
  {
   "cell_type": "code",
   "execution_count": null,
   "metadata": {
    "deletable": false,
    "editable": false,
    "nbgrader": {
     "cell_type": "code",
     "checksum": "f689f89a9e0a4a09639d79b0d2ed215e",
     "grade": false,
     "grade_id": "cell-cd8745babeda7944",
     "locked": true,
     "schema_version": 3,
     "solution": false,
     "task": false
    }
   },
   "outputs": [],
   "source": [
    "plt.figure(figsize=(15,15))\n",
    "for i in range(NFACES):\n",
    "    im = vec2img(X34[:,i])\n",
    "    plt.subplot(NR,NR,i+1)\n",
    "    plt.imshow(im,cmap='gray')\n",
    "    plt.axis('off')"
   ]
  },
  {
   "cell_type": "code",
   "execution_count": null,
   "metadata": {
    "deletable": false,
    "editable": false,
    "nbgrader": {
     "cell_type": "code",
     "checksum": "a7324868b5029d60377b12c8bed11b0f",
     "grade": true,
     "grade_id": "cell-c7db74e0f405f921",
     "locked": true,
     "points": 1,
     "schema_version": 3,
     "solution": false,
     "task": false
    }
   },
   "outputs": [],
   "source": [
    "### DO NOT REMOVE/EDIT THIS CELL ###"
   ]
  },
  {
   "cell_type": "markdown",
   "metadata": {
    "deletable": false,
    "editable": false,
    "nbgrader": {
     "cell_type": "markdown",
     "checksum": "642a4bfe72afb159333229e1cedb3eba",
     "grade": false,
     "grade_id": "cell-42a59cc9b122c94d",
     "locked": true,
     "schema_version": 3,
     "solution": false,
     "task": false
    }
   },
   "source": [
    "Next, we will have a similar exercise, but instead of taking a single person, we will take **all** of them (together).\n",
    "\n",
    "We place all the images in **<font color='red'>X_all</font>** and show a random collection of them."
   ]
  },
  {
   "cell_type": "code",
   "execution_count": null,
   "metadata": {
    "deletable": false,
    "editable": false,
    "nbgrader": {
     "cell_type": "code",
     "checksum": "6afa832c87bb9a8822f79124ed3872e8",
     "grade": false,
     "grade_id": "cell-5106744878b47e90",
     "locked": true,
     "schema_version": 3,
     "solution": false,
     "task": false
    }
   },
   "outputs": [],
   "source": [
    "X_all = np.concatenate(FACES,1)\n",
    "         \n",
    "plt.figure(figsize=(15,15))\n",
    "for i in range(NFACES):\n",
    "    j = np.random.randint(NFACES*NPEOPLE)\n",
    "    im = vec2img(X_all[:,j])\n",
    "    plt.subplot(NR,NR,i+1)\n",
    "    plt.imshow(im,cmap='gray')\n",
    "    plt.axis('off')"
   ]
  },
  {
   "cell_type": "markdown",
   "metadata": {
    "deletable": false,
    "editable": false,
    "nbgrader": {
     "cell_type": "markdown",
     "checksum": "67cfd5bfe4bbdc7302845cbd306fd407",
     "grade": false,
     "grade_id": "cell-cfc221a8885f48f5",
     "locked": true,
     "schema_version": 3,
     "solution": false,
     "task": false
    }
   },
   "source": [
    "Find and present the eigenfaces. This step is similar to what we did for a single person.<br>\n",
    "Here, in addition to storing the singular vectors in **<font color='red'>U_all</font>**, you should also save the **singular values**. <br>\n",
    "Make sure the singular values are stored in **<font color='red'>S_all</font>**."
   ]
  },
  {
   "cell_type": "code",
   "execution_count": null,
   "metadata": {
    "deletable": false,
    "nbgrader": {
     "cell_type": "code",
     "checksum": "7cc83bf7c415eac02ca94240c0dbb76a",
     "grade": false,
     "grade_id": "cell-e609c7b5be24eae4",
     "locked": false,
     "schema_version": 3,
     "solution": true,
     "task": false
    }
   },
   "outputs": [],
   "source": [
    "# YOUR CODE HERE\n",
    "raise NotImplementedError()"
   ]
  },
  {
   "cell_type": "code",
   "execution_count": null,
   "metadata": {
    "deletable": false,
    "editable": false,
    "nbgrader": {
     "cell_type": "code",
     "checksum": "a4422138a8f08818ccdd6289221841f2",
     "grade": false,
     "grade_id": "cell-9ab2a6800f50faf2",
     "locked": true,
     "schema_version": 3,
     "solution": false,
     "task": false
    }
   },
   "outputs": [],
   "source": [
    "plt.figure(figsize=(15,15))\n",
    "\n",
    "plt.subplot(4,4,1)\n",
    "plt.imshow(vec2img(M_all), cmap='gray')\n",
    "plt.axis('off')\n",
    "plt.title('mean')\n",
    "\n",
    "for i in range(15):\n",
    "    plt.subplot(4,4,i+2)\n",
    "    plt.imshow(vec2img(U_all[:,i]), cmap='gray')\n",
    "    plt.axis('off')\n",
    "    plt.title('$u_{%i}$' % (i+1))"
   ]
  },
  {
   "cell_type": "code",
   "execution_count": null,
   "metadata": {
    "deletable": false,
    "editable": false,
    "nbgrader": {
     "cell_type": "code",
     "checksum": "45b800187ced75d883208c913dc380d6",
     "grade": true,
     "grade_id": "cell-524519694784352c",
     "locked": true,
     "points": 1,
     "schema_version": 3,
     "solution": false,
     "task": false
    }
   },
   "outputs": [],
   "source": [
    "### DO NOT REMOVE/EDIT THIS CELL ###"
   ]
  },
  {
   "cell_type": "markdown",
   "metadata": {
    "deletable": false,
    "editable": false,
    "nbgrader": {
     "cell_type": "markdown",
     "checksum": "7179c20cb42a4aaf968b7960ae904890",
     "grade": false,
     "grade_id": "cell-55be251e34a306df",
     "locked": true,
     "schema_version": 3,
     "solution": false,
     "task": false
    }
   },
   "source": [
    "In the next box we try to test the effect of the  eigenfaces in different way. <br>\n",
    "For each eigenface **u<sub>i</sub>** we show the image **M + t$\\cdot$u<sub>i</sub>**, where **t** is in $\\big[-\\frac{\\sigma_i}{20},\\frac{\\sigma_i}{20}\\big]$.<br>\n",
    "The list **<font color='red'>I</font>** indicates which eigenfaces to examine. You can experiment with different indexes.\n",
    "\n",
    "**<font color='blue'>Q:</font>** Can you notice the effects of the different eigenfaces? "
   ]
  },
  {
   "cell_type": "code",
   "execution_count": null,
   "metadata": {},
   "outputs": [],
   "source": [
    "I = [0,1,2,3,4,5]\n",
    "NT = 11\n",
    "SCALE = 20"
   ]
  },
  {
   "cell_type": "code",
   "execution_count": null,
   "metadata": {
    "deletable": false,
    "editable": false,
    "nbgrader": {
     "cell_type": "code",
     "checksum": "4a5c05e364dc5677358171e6dd6d4228",
     "grade": false,
     "grade_id": "cell-ee1fa8acc8a9e5a0",
     "locked": true,
     "schema_version": 3,
     "solution": false,
     "task": false
    }
   },
   "outputs": [],
   "source": [
    "NI = len(I)\n",
    "M = X_all.mean(1)\n",
    "\n",
    "plt.figure(figsize=(15,10))\n",
    "for i in range(NI):\n",
    "    T = np.linspace(-S_all[I[i]]/SCALE,S_all[I[i]]/SCALE,NT)\n",
    "    for j in range(NT):\n",
    "        im = M + T[j]*U_all[:,I[i]]\n",
    "        plt.subplot(NI,NT, i*NT+j+1)\n",
    "        plt.imshow(vec2img(im),cmap='gray')\n",
    "        plt.axis('off')"
   ]
  },
  {
   "cell_type": "markdown",
   "metadata": {
    "deletable": false,
    "editable": false,
    "nbgrader": {
     "cell_type": "markdown",
     "checksum": "a1a53dc5cbe80758212a7b6c26fac1f8",
     "grade": false,
     "grade_id": "cell-34ccd7041a8c9060",
     "locked": true,
     "schema_version": 3,
     "solution": false,
     "task": false
    }
   },
   "source": [
    "Finally, we would like to see whether the eigenfaces can be useful for clustering the face images.\n",
    "We will only focus on **binary** clustering here.\n",
    "\n",
    "The list in **<font color='red'>PIS</font>** should contain exactly two indexes of the two people you want to test clustering on. <br>\n",
    "The list in **<font color='red'>PCS</font>** should contain exactly two indexes, for the principal components to be used.<br>\n",
    "\n",
    "\n",
    "You should create a data matrix **<font color='red'>X_bin</font>** that contains all images from these two people.<br>\n",
    "Next, use the **<font color='red'>pc_transform</font>** function that you wrote above, to project on the two principal components listed in **PCS**. <br>Place the result in the matrix **<font color='red'>Y_bin</font>**.<br>\n",
    "\n",
    "These principal compoments will be plotted, coloured according to the person. \n",
    "\n",
    "Try to experiment with different people and different PCs.\n",
    "\n",
    "**<font color='blue'>Q:</font>** Which principal components seem to be separating the images well?"
   ]
  },
  {
   "cell_type": "code",
   "execution_count": null,
   "metadata": {},
   "outputs": [],
   "source": [
    "PIS = [5,15]\n",
    "PCS = [4,6]"
   ]
  },
  {
   "cell_type": "code",
   "execution_count": null,
   "metadata": {
    "deletable": false,
    "editable": false,
    "nbgrader": {
     "cell_type": "code",
     "checksum": "083257b6915ca5f72ec982aaddd688d8",
     "grade": true,
     "grade_id": "cell-6773af094e710a19",
     "locked": true,
     "points": 0,
     "schema_version": 3,
     "solution": false,
     "task": false
    }
   },
   "outputs": [],
   "source": [
    "### DO NOT REMOVE/EDIT THIS CELL ###"
   ]
  },
  {
   "cell_type": "code",
   "execution_count": null,
   "metadata": {
    "deletable": false,
    "nbgrader": {
     "cell_type": "code",
     "checksum": "87a92689e5f439fe6fe9518dcd75d060",
     "grade": false,
     "grade_id": "cell-035aca25dfd05488",
     "locked": false,
     "schema_version": 3,
     "solution": true,
     "task": false
    }
   },
   "outputs": [],
   "source": [
    "cols = np.zeros(NFACES*2)\n",
    "cols[NFACES:] = 1\n",
    "\n",
    "# YOUR CODE HERE\n",
    "raise NotImplementedError()\n",
    "\n",
    "plt.scatter(Y_bin[0,:], Y_bin[1,:],c=cols);"
   ]
  },
  {
   "cell_type": "code",
   "execution_count": null,
   "metadata": {
    "deletable": false,
    "editable": false,
    "nbgrader": {
     "cell_type": "code",
     "checksum": "641cf75f18ccef7530e1cd852996b522",
     "grade": true,
     "grade_id": "cell-fe0e79be500ee318",
     "locked": true,
     "points": 1,
     "schema_version": 3,
     "solution": false,
     "task": false
    }
   },
   "outputs": [],
   "source": [
    "### DO NOT REMOVE/EDIT THIS CELL ###"
   ]
  }
 ],
 "metadata": {
  "kernelspec": {
   "display_name": "Python 3 (ipykernel)",
   "language": "python",
   "name": "python3"
  },
  "language_info": {
   "codemirror_mode": {
    "name": "ipython",
    "version": 3
   },
   "file_extension": ".py",
   "mimetype": "text/x-python",
   "name": "python",
   "nbconvert_exporter": "python",
   "pygments_lexer": "ipython3",
   "version": "3.9.7"
  }
 },
 "nbformat": 4,
 "nbformat_minor": 4
}

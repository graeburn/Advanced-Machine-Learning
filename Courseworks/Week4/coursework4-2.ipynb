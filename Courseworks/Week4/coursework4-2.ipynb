{
 "cells": [
  {
   "cell_type": "markdown",
   "metadata": {},
   "source": [
    "Before you turn this problem in, make sure everything runs as expected. First, **restart the kernel** (in the menubar, select Kernel$\\rightarrow$Restart) and then **run all cells** (in the menubar, select Cell$\\rightarrow$Run All).\n",
    "\n",
    "Make sure you fill in any place that says `YOUR CODE HERE` or \"YOUR ANSWER HERE\", as well as your name and collaborators below:"
   ]
  },
  {
   "cell_type": "code",
   "execution_count": 1,
   "metadata": {},
   "outputs": [],
   "source": [
    "NAME = \"\"\n",
    "COLLABORATORS = \"NA\""
   ]
  },
  {
   "cell_type": "markdown",
   "metadata": {},
   "source": [
    "---"
   ]
  },
  {
   "cell_type": "markdown",
   "metadata": {
    "deletable": false,
    "editable": false,
    "nbgrader": {
     "cell_type": "markdown",
     "checksum": "3ae1740adc0549e969a11beb1647c94e",
     "grade": false,
     "grade_id": "cell-0524b2d734862681",
     "locked": true,
     "schema_version": 3,
     "solution": false,
     "task": false
    }
   },
   "source": [
    "# MTH793P - Coursework 4 - Part II\n",
    "\n",
    "This is a template notebook for the computational exercises of Coursework 4, part 2/3, of the module MTH793P, Advanced Machine Learning. Closely follow the instructions in this template in order to complete the assessment and to obtain full marks. For the submitted notebook, please only modify cells where you are instructed to do so. Failure to comply may result in unexpected errors that can lead to mark deductions.\n",
    "\n",
    "If a variable name is specified **<font color='red'>in red</font>**, you must use the same variable name in your code, for it to be graded properly.\n",
    "\n",
    "\n",
    "In this exercise we will explore the three clustering methods we've seen in class (K-means, GMM, Spectral).<br>\n",
    "We will use the [MNIST digit dataset](http://yann.lecun.com/exdb/mnist/) to see how these different clustering methods perform on real data.<br> You should use the following classes:\n",
    "- [**sklearn.cluster.KMeans**](https://scikit-learn.org/stable/modules/generated/sklearn.cluster.KMeans.html) (do **not** use your implementation from part I),\n",
    "- [**sklearn.mixture.GaussianMixture**](https://scikit-learn.org/stable/modules/generated/sklearn.mixture.GaussianMixture.html)\n",
    "- [**sklearn.cluster.SpectralClustering**](http://scikit-learn.org/stable/modules/generated/sklearn.cluster.SpectralClustering.html)\n",
    "<br>\n",
    "\n",
    "Read the documentation / examples, to learn how to use them. <br>\n",
    "You can try to test the various paramaters, but for your final submission always use the **default** values, unless you're instructed otherwise (and except for the number of clusters, which should match our clustering task)."
   ]
  },
  {
   "cell_type": "code",
   "execution_count": 2,
   "metadata": {
    "deletable": false,
    "editable": false,
    "nbgrader": {
     "cell_type": "code",
     "checksum": "36b4c35ec046c810b52f5ef3d70dd070",
     "grade": false,
     "grade_id": "cell-feab6c8908b524cb",
     "locked": true,
     "schema_version": 3,
     "solution": false,
     "task": false
    }
   },
   "outputs": [],
   "source": [
    "###\n",
    "### Required imports\n",
    "###\n",
    "\n",
    "import numpy as np\n",
    "import matplotlib.pyplot as plt\n",
    "\n",
    "from load_mnist import load_mnist\n",
    "from sklearn.cluster import SpectralClustering\n",
    "from sklearn.cluster import KMeans\n",
    "from sklearn.mixture import GaussianMixture\n",
    "from sklearn.metrics import rand_score\n",
    "from sklearn.manifold import SpectralEmbedding\n",
    "from numpy.testing import assert_array_equal\n",
    "\n",
    "%matplotlib inline"
   ]
  },
  {
   "cell_type": "code",
   "execution_count": 3,
   "metadata": {
    "deletable": false,
    "editable": false,
    "nbgrader": {
     "cell_type": "code",
     "checksum": "0ee44967c38070c26da0aacac6bc272f",
     "grade": true,
     "grade_id": "cell-985497c1ac27f575",
     "locked": true,
     "points": 0,
     "schema_version": 3,
     "solution": false,
     "task": false
    }
   },
   "outputs": [],
   "source": [
    "### DO NOT REMOVE THIS CELL ### "
   ]
  },
  {
   "cell_type": "code",
   "execution_count": 4,
   "metadata": {
    "deletable": false,
    "editable": false,
    "nbgrader": {
     "cell_type": "code",
     "checksum": "7e831ad4ae6b1e9a3eda1772fd1ccc37",
     "grade": false,
     "grade_id": "cell-5315fc9088067813",
     "locked": true,
     "schema_version": 3,
     "solution": false,
     "task": false
    }
   },
   "outputs": [],
   "source": [
    "###\n",
    "### Load the MNIST dataset\n",
    "###\n",
    "\n",
    "mnist_im, mnist_lb = load_mnist('DigitMNIST/')"
   ]
  },
  {
   "cell_type": "markdown",
   "metadata": {},
   "source": [
    "The MNIST dataset is a collection of grayscale images of handwritten digits (0,1,...,9).<br>\n",
    "Here, we will only want to look at the images representing the digits **4,6,8**.<br>\n",
    "Extract from the loaded dataset only the images corresponding to these digits.<br>\n",
    "Place this subsets of the images and labels in **<font color='red'>mnist_im_sub</font>** and **<font color='red'>mnist_lb_sub</font>**, respectively.<br>\n",
    "Note that the images size is 28x28, but they are stored as vectors of length 784."
   ]
  },
  {
   "cell_type": "code",
   "execution_count": 5,
   "metadata": {
    "deletable": false,
    "nbgrader": {
     "cell_type": "code",
     "checksum": "4aabf3e9a4f3e6ac94811c9afdf41a04",
     "grade": false,
     "grade_id": "cell-49fe0dac266c1359",
     "locked": false,
     "schema_version": 3,
     "solution": true,
     "task": false
    }
   },
   "outputs": [],
   "source": [
    "###\n",
    "### Extract only a subset of the digits.\n",
    "###\n",
    "\n",
    "DIGITS = [4,6,8]\n",
    "\n",
    "digit_indices = [i for i,x in enumerate(mnist_lb) if x in DIGITS]\n",
    "mnist_im_sub = np.array([mnist_im[i] for i in digit_indices])\n",
    "mnist_lb_sub = np.array([mnist_lb[i] for i in digit_indices])\n",
    "# OR mnist_lb_sub = list(filter(lambda x: x in DIGITS, mnist_lb))\n",
    "\n",
    "#raise NotImplementedError()"
   ]
  },
  {
   "cell_type": "markdown",
   "metadata": {},
   "source": [
    "Drawing a sample of the images. Make sure that you only see the digits **4,6,8** here."
   ]
  },
  {
   "cell_type": "code",
   "execution_count": 6,
   "metadata": {
    "deletable": false,
    "editable": false,
    "nbgrader": {
     "cell_type": "code",
     "checksum": "49c6dc28454ba75304c48077cd692680",
     "grade": false,
     "grade_id": "cell-032e47e71155e5a1",
     "locked": true,
     "schema_version": 3,
     "solution": false,
     "task": false
    }
   },
   "outputs": [
    {
     "data": {
      "image/png": "[encoded data removed]",
      "text/plain": [
       "<Figure size 720x720 with 25 Axes>"
      ]
     },
     "metadata": {
      "needs_background": "light"
     },
     "output_type": "display_data"
    }
   ],
   "source": [
    "###\n",
    "### Plot a sample of the images from the database.\n",
    "###\n",
    "\n",
    "M = 5\n",
    "plt.figure(figsize=(10,10))\n",
    "for i in range(M):\n",
    "    for j in range(M):\n",
    "        t = j+i*M\n",
    "        plt.subplot(M,M,t+1)\n",
    "        plt.imshow(np.reshape(mnist_im_sub[t, :], (28, 28)), cmap='gray')\n",
    "        plt.axis('off')"
   ]
  },
  {
   "cell_type": "markdown",
   "metadata": {
    "deletable": false,
    "editable": false,
    "nbgrader": {
     "cell_type": "markdown",
     "checksum": "4975e7f6f578bde796ffb3e2bcc51649",
     "grade": false,
     "grade_id": "cell-0f15cb4fb9c4f454",
     "locked": true,
     "schema_version": 3,
     "solution": false,
     "task": false
    }
   },
   "source": [
    "In order for the clustering to run faster, chop the variable **mnist_im_sub** to contain only the first 1000 images (so it's a 1000x784 dimensional array). <br> Do the same for **mnist_im_lb**.\n",
    "Store the results back in the same variables (**<font color='red'>mnist_im_sub</font>**, **<font color='red'>mnist_lb_sub</font>**)."
   ]
  },
  {
   "cell_type": "code",
   "execution_count": 7,
   "metadata": {
    "deletable": false,
    "nbgrader": {
     "cell_type": "code",
     "checksum": "6d4c5bead159d618cec42d0214eb816f",
     "grade": false,
     "grade_id": "cell-d64af54bd064bae3",
     "locked": false,
     "schema_version": 3,
     "solution": true,
     "task": false
    }
   },
   "outputs": [],
   "source": [
    "mnist_im_sub = mnist_im_sub[:1000]\n",
    "mnist_lb_sub = mnist_lb_sub[:1000]\n",
    "\n",
    "#raise NotImplementedError()\n",
    "\n",
    "###\n",
    "### Making sure arrays are of the right size.\n",
    "###\n",
    "assert_array_equal(mnist_im_sub.shape, (1000,784))\n",
    "assert_array_equal(mnist_lb_sub.shape, 1000)"
   ]
  },
  {
   "cell_type": "markdown",
   "metadata": {},
   "source": [
    "Use **KMeans** (imported from sklearn.cluster) to run the K-means clustering algorithm on the images.<br>\n",
    "Store the resulting labels in **<font color='red'>km_labels</font>** and the cluster centers in **<font color='red'>km_centers</font>**."
   ]
  },
  {
   "cell_type": "code",
   "execution_count": 8,
   "metadata": {
    "deletable": false,
    "editable": false,
    "nbgrader": {
     "cell_type": "code",
     "checksum": "dcd676bfe31f0006a36abcc84bfb97c1",
     "grade": true,
     "grade_id": "cell-00b03de86eff597a",
     "locked": true,
     "points": 0,
     "schema_version": 3,
     "solution": false,
     "task": false
    }
   },
   "outputs": [],
   "source": [
    "### DO NOT REMOVE THIS CELL ### "
   ]
  },
  {
   "cell_type": "code",
   "execution_count": 31,
   "metadata": {
    "deletable": false,
    "nbgrader": {
     "cell_type": "code",
     "checksum": "b053e246012c0101ad500415cbe2dc1a",
     "grade": false,
     "grade_id": "cell-a2addc676941b334",
     "locked": false,
     "schema_version": 3,
     "solution": true,
     "task": false
    }
   },
   "outputs": [],
   "source": [
    "kmeans = KMeans(n_clusters = 3)\n",
    "kmeans.fit(mnist_im_sub)\n",
    "\n",
    "km_centers = kmeans.cluster_centers_\n",
    "km_labels = kmeans.labels_\n",
    "\n",
    "#raise NotImplementedError()"
   ]
  },
  {
   "cell_type": "code",
   "execution_count": 32,
   "metadata": {
    "deletable": false,
    "editable": false,
    "nbgrader": {
     "cell_type": "code",
     "checksum": "9e23b805f195cdc206e3c556263ac54a",
     "grade": true,
     "grade_id": "cell-33243c3540835716",
     "locked": true,
     "points": 0.5,
     "schema_version": 3,
     "solution": false,
     "task": false
    }
   },
   "outputs": [],
   "source": [
    "### DO NOT REMOVE THIS CELL ### "
   ]
  },
  {
   "cell_type": "markdown",
   "metadata": {},
   "source": [
    "Next, use **GaussianMixture** (imported from sklearn.mixture) to run the GMM clustering algorithm.<br>\n",
    "Store the resulting labels in **<font color='red'>gm_labels</font>** and the cluster centers in **<font color='red'>gm_centers</font>**."
   ]
  },
  {
   "cell_type": "code",
   "execution_count": 33,
   "metadata": {
    "deletable": false,
    "editable": false,
    "nbgrader": {
     "cell_type": "code",
     "checksum": "6b1ee300846b3f0ac13abbd5fff025d6",
     "grade": true,
     "grade_id": "cell-c1dd15b4c09f3177",
     "locked": true,
     "points": 0,
     "schema_version": 3,
     "solution": false,
     "task": false
    }
   },
   "outputs": [],
   "source": [
    "### DO NOT REMOVE THIS CELL ### "
   ]
  },
  {
   "cell_type": "code",
   "execution_count": 37,
   "metadata": {
    "deletable": false,
    "nbgrader": {
     "cell_type": "code",
     "checksum": "78d753038d67a3caeef9b8c4ff61e087",
     "grade": false,
     "grade_id": "cell-1f963bb5e3a4bc70",
     "locked": false,
     "schema_version": 3,
     "solution": true,
     "task": false
    }
   },
   "outputs": [],
   "source": [
    "gmm = GaussianMixture(n_components = 3)\n",
    "gmm.fit(mnist_im_sub)\n",
    "\n",
    "gm_centers = gmm.means_\n",
    "gm_labels = gmm.predict(mnist_im_sub)\n",
    "\n",
    "#raise NotImplementedError()"
   ]
  },
  {
   "cell_type": "code",
   "execution_count": 13,
   "metadata": {
    "deletable": false,
    "editable": false,
    "nbgrader": {
     "cell_type": "code",
     "checksum": "dc79dbbd269b468cac91b153fd1084e4",
     "grade": true,
     "grade_id": "cell-789ae2958b3e6abe",
     "locked": true,
     "points": 0.5,
     "schema_version": 3,
     "solution": false,
     "task": false
    }
   },
   "outputs": [],
   "source": [
    "### DO NOT REMOVE THIS CELL ### "
   ]
  },
  {
   "cell_type": "markdown",
   "metadata": {},
   "source": [
    "Finally, use **SpectralClustering** (imported from sklearn.cluster) to run the spectral clustering algorithm.<br>\n",
    "For this algorithm, make sure to set **<font color='blue'>affinity='nearest_neighbors</red>'** when you create the clustering object.<br>\n",
    "Store the resulting labels in **<font color='red'>sp_labels</font>** (spectral clustering doesn't provide centers, why?)"
   ]
  },
  {
   "cell_type": "code",
   "execution_count": 14,
   "metadata": {
    "deletable": false,
    "editable": false,
    "nbgrader": {
     "cell_type": "code",
     "checksum": "9cf44b0d424b6c09787197b217fb91b2",
     "grade": true,
     "grade_id": "cell-45f3ef0326330e25",
     "locked": true,
     "points": 0,
     "schema_version": 3,
     "solution": false,
     "task": false
    }
   },
   "outputs": [],
   "source": [
    "### DO NOT REMOVE THIS CELL ### "
   ]
  },
  {
   "cell_type": "code",
   "execution_count": 15,
   "metadata": {
    "deletable": false,
    "nbgrader": {
     "cell_type": "code",
     "checksum": "64b39d67b3b539eed267a7150687d0c6",
     "grade": false,
     "grade_id": "cell-800bf40abf116998",
     "locked": false,
     "schema_version": 3,
     "solution": true,
     "task": false
    }
   },
   "outputs": [],
   "source": [
    "sp = SpectralClustering(n_clusters = 3, affinity = 'nearest_neighbors')\n",
    "sp.fit(mnist_im_sub)\n",
    "\n",
    "sp_labels = sp.labels_\n",
    "\n",
    "#raise NotImplementedError()"
   ]
  },
  {
   "cell_type": "code",
   "execution_count": 16,
   "metadata": {
    "deletable": false,
    "editable": false,
    "nbgrader": {
     "cell_type": "code",
     "checksum": "520799b7fe54d6b2e62119246b1fe38e",
     "grade": true,
     "grade_id": "cell-b08cf25655d225a2",
     "locked": true,
     "points": 0.5,
     "schema_version": 3,
     "solution": false,
     "task": false
    }
   },
   "outputs": [],
   "source": [
    "### DO NOT REMOVE THIS CELL ### "
   ]
  },
  {
   "cell_type": "markdown",
   "metadata": {
    "deletable": false,
    "editable": false,
    "nbgrader": {
     "cell_type": "markdown",
     "checksum": "5d5db4b72407181cb1e60668262168b7",
     "grade": false,
     "grade_id": "cell-4ee843f0149c8b33",
     "locked": true,
     "schema_version": 3,
     "solution": false,
     "task": false
    }
   },
   "source": [
    "As a sanity check, we will examine the results on the first 10 images in the dataset.<br>\n",
    "The code below draws these images.<br>\n",
    "Print out the first 10 labels that you recieved for each of the three algorithms."
   ]
  },
  {
   "cell_type": "code",
   "execution_count": 17,
   "metadata": {
    "deletable": false,
    "nbgrader": {
     "cell_type": "code",
     "checksum": "f3a7266832ab114c25a1d43ac76026d4",
     "grade": false,
     "grade_id": "cell-a685a3aaec43f05d",
     "locked": false,
     "schema_version": 3,
     "solution": true,
     "task": false
    }
   },
   "outputs": [
    {
     "name": "stdout",
     "output_type": "stream",
     "text": [
      "The first 10 k-means labels are [0 0 1 2 1 0 0 2 1 1] \n",
      "The first 10 gaussian mixture labels are [1 1 2 0 2 1 1 0 2 2] \n",
      "The first 10 spectral clustering labels are [0 0 1 2 1 0 0 2 1 1] \n"
     ]
    },
    {
     "data": {
      "image/png": "[encoded data removed]",
      "text/plain": [
       "<Figure size 1080x360 with 10 Axes>"
      ]
     },
     "metadata": {
      "needs_background": "light"
     },
     "output_type": "display_data"
    }
   ],
   "source": [
    "M = 10\n",
    "plt.figure(figsize=(15,5))\n",
    "for i in range(M):\n",
    "    plt.subplot(1,M,i+1)\n",
    "    plt.imshow(np.reshape(mnist_im_sub[i, :], (28, 28)), cmap='gray')\n",
    "    plt.axis('off')\n",
    "    \n",
    "print(\"The first 10 k-means labels are {k1} \".format(k1 = km_labels[:10]))\n",
    "print(\"The first 10 gaussian mixture labels are {k2} \".format(k2 = gm_labels[:10]))\n",
    "print(\"The first 10 spectral clustering labels are {k3} \".format(k3 = sp_labels[:10]))\n",
    "#raise NotImplementedError()"
   ]
  },
  {
   "cell_type": "markdown",
   "metadata": {},
   "source": [
    "For each of the algorithms, state below whether or not you got **perfect** cluster labels (for the first 10 digits).<br>\n",
    "Store the results in the following variables:\n",
    "-  **<font color='red'>km_perfect</font>** = True/False\n",
    "-  **<font color='red'>gm_perfect</font>** = True/False\n",
    "-  **<font color='red'>sp_perfect</font>** = True/False"
   ]
  },
  {
   "cell_type": "code",
   "execution_count": 18,
   "metadata": {
    "deletable": false,
    "nbgrader": {
     "cell_type": "code",
     "checksum": "b00784e133ae97180b9acf474b3a54a7",
     "grade": false,
     "grade_id": "cell-ba7ceae55415584b",
     "locked": false,
     "schema_version": 3,
     "solution": true,
     "task": false
    }
   },
   "outputs": [
    {
     "name": "stdout",
     "output_type": "stream",
     "text": [
      "km_perfect = True\n",
      "gm_perfect = True\n",
      "sp_perfect = True\n"
     ]
    }
   ],
   "source": [
    "# check if indices of identical label digits all match as cluster labels differently 0,1 or 2\n",
    "# np.all() returns False if all elements 0 so check all values of array all same as first value and labels not the same\n",
    "indices_no4 = np.where(mnist_lb_sub[:10] == 4)\n",
    "indices_no6 = np.where(mnist_lb_sub[:10] == 6)\n",
    "indices_no8 = np.where(mnist_lb_sub[:10] == 8)\n",
    "\n",
    "if np.all(km_labels[:10][indices_no4] == km_labels[:10][indices_no4][0]) and np.all(km_labels[:10][indices_no6] == km_labels[:10][indices_no6][0]) and np.all(km_labels[:10][indices_no8] == km_labels[:10][indices_no8][0]) and km_labels[:10][indices_no4][0] != km_labels[:10][indices_no6][0] != km_labels[:10][indices_no8][0]:\n",
    "    km_perfect = True\n",
    "else:\n",
    "    km_perfect = False\n",
    "\n",
    "if np.all(gm_labels[:10][indices_no4] == gm_labels[:10][indices_no4][0]) and np.all(gm_labels[:10][indices_no6] == gm_labels[:10][indices_no6][0]) and np.all(gm_labels[:10][indices_no8] == gm_labels[:10][indices_no8][0]) and gm_labels[:10][indices_no4][0] != gm_labels[:10][indices_no6][0] != gm_labels[:10][indices_no8][0]:\n",
    "    gm_perfect = True\n",
    "else:\n",
    "    gm_perfect = False\n",
    "    \n",
    "if np.all(sp_labels[:10][indices_no4] == sp_labels[:10][indices_no4][0]) and np.all(sp_labels[:10][indices_no6] == sp_labels[:10][indices_no6][0]) and np.all(sp_labels[:10][indices_no8] == sp_labels[:10][indices_no8][0]) and sp_labels[:10][indices_no4][0] != sp_labels[:10][indices_no6][0] != sp_labels[:10][indices_no8][0]:\n",
    "    sp_perfect = True\n",
    "else:\n",
    "    sp_perfect = False\n",
    "\n",
    "print(\"km_perfect = {p1}\".format(p1 = km_perfect))\n",
    "print(\"gm_perfect = {p2}\".format(p2 = gm_perfect))\n",
    "print(\"sp_perfect = {p3}\".format(p3 = sp_perfect))\n",
    "\n",
    "#raise NotImplementedError()"
   ]
  },
  {
   "cell_type": "code",
   "execution_count": 19,
   "metadata": {
    "deletable": false,
    "editable": false,
    "nbgrader": {
     "cell_type": "code",
     "checksum": "fd51028c0127322e867f7f3afa0dcab3",
     "grade": true,
     "grade_id": "cell-587dc596ec0e75d9",
     "locked": true,
     "points": 0.5,
     "schema_version": 3,
     "solution": false,
     "task": false
    }
   },
   "outputs": [],
   "source": [
    "### DO NOT REMOVE THIS CELL ### "
   ]
  },
  {
   "cell_type": "markdown",
   "metadata": {},
   "source": [
    "As a second check, we display the centers of the clusters (relevant for **K-means** and **GMM** only).<br>\n",
    "The code below will show the images, but you have to fill in the variables **<font color='red'>im_show_km</font>** and **<font color='red'>im_show_gm</font>** with the corresponding center at each step of the loop. Remember that you have to switch from vector to matrices before drawing an image."
   ]
  },
  {
   "cell_type": "code",
   "execution_count": 43,
   "metadata": {
    "deletable": false,
    "nbgrader": {
     "cell_type": "code",
     "checksum": "3bb3e311747041b589f97cce47d220e6",
     "grade": false,
     "grade_id": "cell-ee567dd7c8291510",
     "locked": false,
     "schema_version": 3,
     "solution": true,
     "task": false
    }
   },
   "outputs": [
    {
     "data": {
      "image/png": "[encoded data removed]",
      "text/plain": [
       "<Figure size 720x360 with 6 Axes>"
      ]
     },
     "metadata": {
      "needs_background": "light"
     },
     "output_type": "display_data"
    }
   ],
   "source": [
    "plt.figure(figsize=(10, 5))\n",
    "\n",
    "for counter in range(K):\n",
    "    ##########\n",
    "    # YOUR CODE HERE\n",
    "    im_show_km = np.reshape(km_centers[counter], (28,28))\n",
    "    im_show_gm = np.reshape(gm_centers[counter], (28,28))\n",
    "    #raise NotImplementedError()\n",
    "    ##########\n",
    "    plt.subplot(2, K, counter+1)\n",
    "    plt.imshow(im_show_km,cmap='gray')\n",
    "    plt.axis('off')\n",
    "    plt.subplot(2, K, counter+K+1)\n",
    "    plt.imshow(im_show_gm,cmap='gray')\n",
    "    plt.axis('off')\n",
    "plt.tight_layout;  "
   ]
  },
  {
   "cell_type": "code",
   "execution_count": 44,
   "metadata": {
    "deletable": false,
    "editable": false,
    "nbgrader": {
     "cell_type": "code",
     "checksum": "5d65f4d237f9c545959691fead1755ec",
     "grade": true,
     "grade_id": "cell-82ccb30cda1ffbf4",
     "locked": true,
     "points": 0.5,
     "schema_version": 3,
     "solution": false,
     "task": false
    }
   },
   "outputs": [],
   "source": [
    "### DO NOT REMOVE THIS CELL ### "
   ]
  },
  {
   "cell_type": "markdown",
   "metadata": {},
   "source": [
    "For spectral clustering, we want to examine the embedding that the algorithm produces.<br>\n",
    "For that we can use [**sklearn.manifold.SpectralEmbedding**](http://).<br>\n",
    "Read the documentation / examples, and apply the embedding $P:\\mathbb{R}^{784}\\to \\mathbb{R}^2$\n",
    "to transform the array of high dimensional vectors in **mnist_im_sub** ($1000\\times 784$) into a new array **<font color='red'>mnist_im_emb</font>** that is of dimension $1000\\times 2$.<br>\n",
    "Make sure to set the number of components correctly."
   ]
  },
  {
   "cell_type": "code",
   "execution_count": 60,
   "metadata": {
    "deletable": false,
    "nbgrader": {
     "cell_type": "code",
     "checksum": "9f843bfaa5c659c4438745bc83a1cff2",
     "grade": false,
     "grade_id": "cell-dd30f0b0f66b1bb5",
     "locked": false,
     "schema_version": 3,
     "solution": true,
     "task": false
    }
   },
   "outputs": [],
   "source": [
    "# Dimension reduction useful to visualise different images in simple graph\n",
    "embedding = SpectralEmbedding(n_components = 2)\n",
    "mnist_im_emb = embedding.fit_transform(mnist_im_sub[:1000])\n",
    "\n",
    "#raise NotImplementedError()"
   ]
  },
  {
   "cell_type": "markdown",
   "metadata": {},
   "source": [
    "We now plot the resulting 2D embedding. What can you deduce from the output?"
   ]
  },
  {
   "cell_type": "code",
   "execution_count": 75,
   "metadata": {},
   "outputs": [
    {
     "data": {
      "image/png": "[encoded data removed]",
      "text/plain": [
       "<Figure size 432x288 with 1 Axes>"
      ]
     },
     "metadata": {
      "needs_background": "light"
     },
     "output_type": "display_data"
    }
   ],
   "source": [
    "###\n",
    "### Plot 2D embedding of the images.\n",
    "###\n",
    "\n",
    "plt.scatter(mnist_im_emb[:,0], mnist_im_emb[:,1], c=mnist_lb_sub);"
   ]
  },
  {
   "cell_type": "markdown",
   "metadata": {},
   "source": [
    "Finally, we would like to get a qunatitave estimate for the clustering quality of each of the methods.<br>\n",
    "Since in this example we know what the ground truth is (the labels given by the MNIST database), we can use an exteral evaluation.<br>\n",
    "Use **rand_score** (imported from sklearn.metrics) to compute the Rand Score for each of the three algorithms.<br>\n",
    "Store the results in **<font color='red'>km_RI</font>**, **<font color='red'>gm_RI</font>**, and **<font color='red'>sp_RI</font>** (for K-means, GMM, and Spectral clustering, respectively)."
   ]
  },
  {
   "cell_type": "code",
   "execution_count": 76,
   "metadata": {
    "deletable": false,
    "nbgrader": {
     "cell_type": "code",
     "checksum": "44a602c92541c70a759033946112be17",
     "grade": false,
     "grade_id": "cell-1c8496be0dd9d625",
     "locked": false,
     "schema_version": 3,
     "solution": true,
     "task": false
    }
   },
   "outputs": [
    {
     "name": "stdout",
     "output_type": "stream",
     "text": [
      "Rand Index for K-Means clustering: 0.8791551552\n",
      "Rand Index for Gassian Mixture clustering: 0.8804164164\n",
      "Rand Index for Spectral clustering: 0.9549449449\n"
     ]
    }
   ],
   "source": [
    "# Rand corrects for labels being the digits 4,6,8 and the 3 clusters being labelled 0,1,2 with varying labels for each digit cluster\n",
    "\n",
    "km_RI = rand_score(km_labels, mnist_lb_sub)\n",
    "gm_RI = rand_score(gm_labels, mnist_lb_sub)\n",
    "sp_RI = rand_score(sp_labels, mnist_lb_sub)\n",
    "#raise NotImplementedError()\n",
    "\n",
    "print(\"Rand Index for K-Means clustering: %.10f\" % km_RI)\n",
    "print(\"Rand Index for Gassian Mixture clustering: %.10f\" % gm_RI)\n",
    "print(\"Rand Index for Spectral clustering: %.10f\" % sp_RI)"
   ]
  },
  {
   "cell_type": "code",
   "execution_count": 77,
   "metadata": {
    "deletable": false,
    "editable": false,
    "nbgrader": {
     "cell_type": "code",
     "checksum": "b152c6b866224f1adfabb83d193efe67",
     "grade": true,
     "grade_id": "cell-2f1d93f269f6fcea",
     "locked": true,
     "points": 0.5,
     "schema_version": 3,
     "solution": false,
     "task": false
    }
   },
   "outputs": [],
   "source": [
    "### DO NOT REMOVE THIS CELL ### "
   ]
  },
  {
   "cell_type": "code",
   "execution_count": 57,
   "metadata": {
    "deletable": false,
    "editable": false,
    "nbgrader": {
     "cell_type": "code",
     "checksum": "d749d2f2b3fb93cca400655941ff704f",
     "grade": true,
     "grade_id": "cell-bf0ac15b81f9554d",
     "locked": true,
     "points": 0,
     "schema_version": 3,
     "solution": false,
     "task": false
    }
   },
   "outputs": [],
   "source": [
    "### DO NOT REMOVE THIS CELL ### "
   ]
  }
 ],
 "metadata": {
  "celltoolbar": "Edit Metadata",
  "kernelspec": {
   "display_name": "Python 3 (ipykernel)",
   "language": "python",
   "name": "python3"
  },
  "language_info": {
   "codemirror_mode": {
    "name": "ipython",
    "version": 3
   },
   "file_extension": ".py",
   "mimetype": "text/x-python",
   "name": "python",
   "nbconvert_exporter": "python",
   "pygments_lexer": "ipython3",
   "version": "3.9.13"
  }
 },
 "nbformat": 4,
 "nbformat_minor": 4
}

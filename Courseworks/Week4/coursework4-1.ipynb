{
 "cells": [
  {
   "cell_type": "markdown",
   "metadata": {},
   "source": [
    "Before you turn this problem in, make sure everything runs as expected. First, **restart the kernel** (in the menubar, select Kernel$\\rightarrow$Restart) and then **run all cells** (in the menubar, select Cell$\\rightarrow$Run All).\n",
    "\n",
    "Make sure you fill in any place that says `YOUR CODE HERE` or \"YOUR ANSWER HERE\", as well as your name and collaborators below:"
   ]
  },
  {
   "cell_type": "code",
   "execution_count": 1,
   "metadata": {},
   "outputs": [],
   "source": [
    "NAME = \"\"\n",
    "COLLABORATORS = \"NA\""
   ]
  },
  {
   "cell_type": "markdown",
   "metadata": {},
   "source": [
    "---"
   ]
  },
  {
   "cell_type": "markdown",
   "metadata": {
    "deletable": false,
    "editable": false,
    "nbgrader": {
     "cell_type": "markdown",
     "checksum": "df82b46a5008099a4d229c4e2b9813bf",
     "grade": false,
     "grade_id": "cell-0524b2d734862681",
     "locked": true,
     "schema_version": 3,
     "solution": false,
     "task": false
    }
   },
   "source": [
    "# MTH793P - Coursework 4 - Part I\n",
    "\n",
    "This is a template notebook for the computational exercises of Coursework 4, part 1/3, of the module MTH793P, Advanced Machine Learning. Closely follow the instructions in this template in order to complete the assessment and to obtain full marks. For the submitted notebook, please only modify cells where you are instructed to do so. Failure to comply may result in unexpected errors that can lead to mark deductions.\n",
    "\n",
    "If a variable name is specified **<font color='red'>in red</font>**, you must use the same variable name in your code, for it to be graded properly.\n",
    "\n",
    "In this part we will implement the K-means algorithm, and test it on the Old Faithul dataset.<br>\n",
    "**NOTE:** In this part you are **not** allowed to use any library implementation of K-means, you need to write your own code."
   ]
  },
  {
   "cell_type": "code",
   "execution_count": 2,
   "metadata": {
    "deletable": false,
    "editable": false,
    "nbgrader": {
     "cell_type": "code",
     "checksum": "3b9ea4d7b998f77379954ff3c53df3c5",
     "grade": false,
     "grade_id": "cell-feab6c8908b524cb",
     "locked": true,
     "schema_version": 3,
     "solution": false,
     "task": false
    }
   },
   "outputs": [],
   "source": [
    "###\n",
    "### Required imports\n",
    "###\n",
    "\n",
    "import numpy as np\n",
    "import numpy.matlib\n",
    "import matplotlib.pyplot as plt\n",
    "from matplotlib.colors import ListedColormap\n",
    "from scipy.spatial.distance import cdist\n",
    "from skimage import img_as_ubyte\n",
    "from sklearn.metrics import silhouette_score\n",
    "from numpy.testing import assert_array_almost_equal\n",
    "\n",
    "%matplotlib inline"
   ]
  },
  {
   "cell_type": "code",
   "execution_count": 3,
   "metadata": {
    "deletable": false,
    "editable": false,
    "nbgrader": {
     "cell_type": "code",
     "checksum": "0ee44967c38070c26da0aacac6bc272f",
     "grade": true,
     "grade_id": "cell-985497c1ac27f575",
     "locked": true,
     "points": 0,
     "schema_version": 3,
     "solution": false,
     "task": false
    }
   },
   "outputs": [],
   "source": [
    "### DO NOT REMOVE THIS CELL ### "
   ]
  },
  {
   "cell_type": "markdown",
   "metadata": {
    "deletable": false,
    "editable": false,
    "nbgrader": {
     "cell_type": "markdown",
     "checksum": "20aa9794802ab2b235a3241ab0b40366",
     "grade": false,
     "grade_id": "cell-f35f0de3eac02983",
     "locked": true,
     "schema_version": 3,
     "solution": false,
     "task": false
    }
   },
   "source": [
    "We begin this week's coursework by loading the Old Faithful dataset with the following cell. The Old Faithful dataset is a well-known dataset in Statistics in Machine Learning. The data includes the waiting time between eruptions and the duration of the eruption for the Old Faithful geyser in Yellowstone National Park, Wyoming, USA. The data can be described as follows:\n",
    "\n",
    "     A data frame with 272 observations on 2 variables.\n",
    "\n",
    "    eruptions  numeric  Eruption time in mins\n",
    "    waiting    numeric  Waiting time to next eruption\n",
    "\n",
    "For more information, please visit the following references:\n",
    "\n",
    "     Hardle, W. (1991) Smoothing Techniques with Implementation in S.\n",
    "     New York: Springer.\n",
    "\n",
    "     Azzalini, A. and Bowman, A. W. (1990). A look at some data on the\n",
    "     Old Faithful geyser. Applied Statistics 39, 357-365."
   ]
  },
  {
   "cell_type": "code",
   "execution_count": 4,
   "metadata": {
    "deletable": false,
    "editable": false,
    "nbgrader": {
     "cell_type": "code",
     "checksum": "f4eb4fc53b3ef210f5f378139f46f707",
     "grade": false,
     "grade_id": "cell-b2efbcdc9dbe5aab",
     "locked": true,
     "schema_version": 3,
     "solution": false,
     "task": false
    }
   },
   "outputs": [
    {
     "data": {
      "image/png": "[encoded data removed]",
      "text/plain": [
       "<Figure size 432x288 with 1 Axes>"
      ]
     },
     "metadata": {
      "needs_background": "light"
     },
     "output_type": "display_data"
    }
   ],
   "source": [
    "###\n",
    "### Plotting the Old Faithful data.\n",
    "###\n",
    "\n",
    "old_faithful_dataset = np.loadtxt(\"faithful.csv\", delimiter=\" \", skiprows=0)\n",
    "plt.scatter(old_faithful_dataset[:, 0], old_faithful_dataset[:, 1])\n",
    "plt.xlabel('Eruption time (in minutes)', fontsize=12)\n",
    "plt.ylabel('Waiting time to next eruption (in minutes)', fontsize=12)\n",
    "plt.xticks(fontsize=16)\n",
    "plt.yticks(fontsize=16);"
   ]
  },
  {
   "cell_type": "markdown",
   "metadata": {
    "deletable": false,
    "editable": false,
    "nbgrader": {
     "cell_type": "markdown",
     "checksum": "dc948c6df4afcc3f1740df7df2e24d0d",
     "grade": false,
     "grade_id": "cell-7d8e2692fed37d6e",
     "locked": true,
     "schema_version": 3,
     "solution": false,
     "task": false
    }
   },
   "source": [
    "## K-means clustering\n",
    "\n",
    "We write a function **<font color='red'>k_means_clustering</font>** that performs $k$-means clustering for the input **<font color='red'>data</font>** and a number of clusters **<font color='red'>no_of_clusters</font>** based on the alternating algorithm we discussed in class. <br>\n",
    "Here **<font color='red'>data</font>** is matrix $X = \\left( \\begin{matrix} x_1^\\top \\\\ \\vdots \\\\ x_s^\\top \\end{matrix} \\right) \\in \\mathbb{R}^{s \\times d}$ of $s$ $d$-dimensional vectors. \n",
    "<br>\n",
    "Optional arguments are:\n",
    "1. Initialisation for the centroids (**<font color='red'>init_centroids</font>**).\n",
    "2. Maximum number of iterations (**<font color='red'>maximum_counter</font>**).\n",
    "3. Tolerance parameter for when the iteration is considered to have converged (**<font color='red'>tolerance</font>**) .\n",
    "4. A parameter that determines after how many iterations a progress-update is printed (**<font color='red'>print_output</font>**).\n",
    "\n",
    "If **<font color='red'>init_centroids</font>** is set to **None**, then it should be initialied as a 2D array of correct size with normal distributed random variables with mean zero and standard deviation one. <br>\n",
    "Make sure that the algorithm stops as as soon as $\\left(L(z^k, \\mu^k) - L(z^{k + 1}, \\mu^{k + 1})\\right) / L(z^{k + 1}, \\mu^{k + 1}) \\leq \\text{tolerance}$. Here, $L$ denotes the k-means clustering objective\n",
    "\n",
    "$$ L(z, \\mu) = \\sum_{i = 1}^s \\sum_{j = 1}^k z_{ij} \\| x_i - \\mu_j \\|^2 \\, . $$\n",
    "\n",
    "The function should return the following:\n",
    "- **<font color='red'>centroids</font>** = a matrix $\\mu = \\left( \\begin{matrix} \\mu_1^\\top \\\\ \\vdots \\\\ \\mu_k^\\top \\end{matrix} \\right) \\in \\mathbb{R}^{k \\times d}$ that contains all $k$ centroid vectors.\n",
    "- **<font color='red'>assignments</font>** = a matrix $z \\in \\{0, 1\\}^{s \\times k}$ that contains the cluster assignments for each sample. <br>\n",
    "\n",
    "Feel free to make use of your pairwise distance function from Coursework 2, or use the SciPy built-in function [**cdist**](https://docs.scipy.org/doc/scipy/reference/generated/scipy.spatial.distance.cdist.html)."
   ]
  },
  {
   "cell_type": "code",
   "execution_count": 129,
   "metadata": {
    "deletable": false,
    "nbgrader": {
     "cell_type": "code",
     "checksum": "43701ef3bae42d7c9514b8fd358d874d",
     "grade": false,
     "grade_id": "cell-c901a6aebf28f9d0",
     "locked": false,
     "schema_version": 3,
     "solution": true,
     "task": false
    }
   },
   "outputs": [],
   "source": [
    "###\n",
    "### k_means_clustering\n",
    "###\n",
    "\n",
    "def k_means_clustering(data, no_of_clusters, init_centroids=None, maximum_counter=300, tolerance=1e-9, \\\n",
    "                       print_output=10):   \n",
    "    counter = 1\n",
    "    L_new = np.inf\n",
    "    L_old = np.inf\n",
    "\n",
    "    if init_centroids is None:\n",
    "        init_centroids = np.tile(np.array([np.random.normal(0,1,no_of_clusters)]).T, np.size(data, 1)).astype(float)\n",
    "    else:\n",
    "        centroids = init_centroids\n",
    "    \n",
    "    while True:\n",
    "        \n",
    "        min_distances = cdist(data,centroids,'sqeuclidean').min(axis=1)\n",
    "        L_old = np.sum(min_distances)\n",
    "        \n",
    "        assignments = np.zeros((np.size(data, 0), no_of_clusters))\n",
    "        nearest_cluster = np.argmin(cdist(data,centroids,'sqeuclidean'), axis=1)\n",
    "        assignments[np.arange(np.size(data, 0)), nearest_cluster] = 1\n",
    "        \n",
    "        for i in range(0, no_of_clusters):\n",
    "            centroids[i] = data[np.where(nearest_cluster == i)].sum(axis = 0) / (nearest_cluster == i).sum()\n",
    "        \n",
    "        min_distances = cdist(data,centroids,'sqeuclidean').min(axis=1)\n",
    "        L_new = np.sum(min_distances)\n",
    "         \n",
    "        if counter%print_output == 0:\n",
    "            print(\"On iteration {i1}, the k-means clustering objective is {i2}\".format(i1 = counter, i2 = L_new))\n",
    "            \n",
    "        if (counter != 1 and (L_old - L_new)/L_new < tolerance) or counter > maximum_counter:\n",
    "            break\n",
    "        \n",
    "        counter += 1\n",
    "        \n",
    "    return centroids, assignments\n",
    "    #raise NotImplementedError()"
   ]
  },
  {
   "cell_type": "markdown",
   "metadata": {},
   "source": [
    "You can test your code in the following boxes:"
   ]
  },
  {
   "cell_type": "code",
   "execution_count": 136,
   "metadata": {
    "deletable": false,
    "editable": false,
    "nbgrader": {
     "cell_type": "code",
     "checksum": "b5fb7afce1ab2ca034f29f85131f37a9",
     "grade": false,
     "grade_id": "cell-d1efe837245b7848",
     "locked": true,
     "schema_version": 3,
     "solution": false,
     "task": false
    }
   },
   "outputs": [
    {
     "name": "stdout",
     "output_type": "stream",
     "text": [
      "TEST PASSED!\n"
     ]
    }
   ],
   "source": [
    "###\n",
    "### Testing on 1D data.\n",
    "###\n",
    "\n",
    "test_data = np.array([-3, 2, -1, 7, 11, 6, -30, 0, -50, 15]).reshape(-1, 1)\n",
    "test_init_centroids = np.array([-4.0, 0, 1]).reshape(-1, 1)\n",
    "test_centroids, _ = k_means_clustering(test_data, 3, test_init_centroids)\n",
    "assert_array_almost_equal(test_centroids, np.array([[-40], [-0.5], [9.75]]))\n",
    "print(\"TEST PASSED!\")"
   ]
  },
  {
   "cell_type": "code",
   "execution_count": 137,
   "metadata": {
    "deletable": false,
    "editable": false,
    "nbgrader": {
     "cell_type": "code",
     "checksum": "40938ea325b98c9849c9e3edced3f321",
     "grade": false,
     "grade_id": "cell-2b09328784ba7af2",
     "locked": true,
     "schema_version": 3,
     "solution": false,
     "task": false
    }
   },
   "outputs": [
    {
     "name": "stdout",
     "output_type": "stream",
     "text": [
      "TEST PASSED!\n"
     ]
    }
   ],
   "source": [
    "###\n",
    "### Testing on 2D data.\n",
    "###\n",
    "\n",
    "test_data = np.array([[-3, 2, -1, 7, 11], [6, -30, 0, -50, 15]]).T\n",
    "test_init_centroids = np.array([[-1.0, 1], [3, -5], [10, 15]])\n",
    "test_centroids, _ = k_means_clustering(test_data, 3, test_init_centroids)\n",
    "assert_array_almost_equal(test_centroids, np.array([[-2, 3], [4.5, -40], [11, 15]]))\n",
    "print(\"TEST PASSED!\")"
   ]
  },
  {
   "cell_type": "markdown",
   "metadata": {
    "deletable": false,
    "editable": false,
    "nbgrader": {
     "cell_type": "markdown",
     "checksum": "15e11e951a9a599ec1ffc00025367d7c",
     "grade": false,
     "grade_id": "cell-5eabdddfd4df7fa5",
     "locked": true,
     "schema_version": 3,
     "solution": false,
     "task": false
    }
   },
   "source": [
    "Cluster the Old Faithful dataset into two clusters. <br> Initialise your centroids with the two centroid vectors $\\mu_1 = \\left( \\begin{matrix} 3.5 & 50\\end{matrix}\\right)^\\top$ and $\\mu_2 = \\left( \\begin{matrix} 3 & 80\\end{matrix}\\right)^\\top$.<br>\n",
    "\n",
    "Use variables named **<font color='red'>centroids</font>** and **<font color='red'>assignments</font>** to store your results."
   ]
  },
  {
   "cell_type": "code",
   "execution_count": 138,
   "metadata": {
    "deletable": false,
    "nbgrader": {
     "cell_type": "code",
     "checksum": "026ea96943e0ae6b16f36b658f4e1a50",
     "grade": false,
     "grade_id": "cell-5a342229d49edc23",
     "locked": false,
     "schema_version": 3,
     "solution": true,
     "task": false
    }
   },
   "outputs": [
    {
     "name": "stdout",
     "output_type": "stream",
     "text": [
      "On iteration 1, the k-means clustering objective is 8992.735599758907\n",
      "On iteration 2, the k-means clustering objective is 8901.76872094721\n",
      "On iteration 3, the k-means clustering objective is 8901.76872094721\n"
     ]
    }
   ],
   "source": [
    "init_centroids = np.array(([3.5, 50], [3, 80]))\n",
    "centroids, assignments = k_means_clustering(old_faithful_dataset, 2, init_centroids, 300, 1e-9, 1)\n",
    "#raise NotImplementedError()"
   ]
  },
  {
   "cell_type": "code",
   "execution_count": 139,
   "metadata": {
    "deletable": false,
    "editable": false,
    "nbgrader": {
     "cell_type": "code",
     "checksum": "c88562b537fe4db3ab8af86df17d18f4",
     "grade": true,
     "grade_id": "cell-3e18c5e14ec59acf",
     "locked": true,
     "points": 3,
     "schema_version": 3,
     "solution": false,
     "task": false
    }
   },
   "outputs": [],
   "source": [
    "### DO NOT REMOVE THIS CELL ####"
   ]
  },
  {
   "cell_type": "code",
   "execution_count": 140,
   "metadata": {
    "deletable": false,
    "editable": false,
    "nbgrader": {
     "cell_type": "code",
     "checksum": "0e31f6efd7a840395a9e54947813255e",
     "grade": true,
     "grade_id": "cell-823b04a1f59fde14",
     "locked": true,
     "points": 1,
     "schema_version": 3,
     "solution": false,
     "task": false
    }
   },
   "outputs": [],
   "source": [
    "### DO NOT REMOVE THIS CELL ####"
   ]
  },
  {
   "cell_type": "code",
   "execution_count": 141,
   "metadata": {
    "deletable": false,
    "editable": false,
    "nbgrader": {
     "cell_type": "code",
     "checksum": "e4aff57c58d34cfd22255f54488f680d",
     "grade": false,
     "grade_id": "cell-be71aa9ab0514eea",
     "locked": true,
     "schema_version": 3,
     "solution": false,
     "task": false
    }
   },
   "outputs": [
    {
     "data": {
      "image/png": "[encoded data removed]",
      "text/plain": [
       "<Figure size 432x288 with 1 Axes>"
      ]
     },
     "metadata": {
      "needs_background": "light"
     },
     "output_type": "display_data"
    }
   ],
   "source": [
    "###\n",
    "### Plotting the resulting clusters.\n",
    "###\n",
    "\n",
    "colormap_bright = ListedColormap(['#FF0000', '#0000FF'])\n",
    "plt.scatter(old_faithful_dataset[:, 0], old_faithful_dataset[:, 1], c=assignments[:, 0], cmap=colormap_bright, edgecolors='k')\n",
    "plt.scatter(centroids[:, 0], centroids[:, 1], marker=\"*\", s=500, color=[\"purple\", \"orange\"], edgecolors='k')\n",
    "plt.xlabel('Eruption time (in minutes)', fontsize=12)\n",
    "plt.ylabel('Waiting time to next eruption (in minutes)', fontsize=12)\n",
    "plt.xticks(fontsize=16)\n",
    "plt.yticks(fontsize=16)\n",
    "plt.tight_layout;"
   ]
  },
  {
   "cell_type": "code",
   "execution_count": 142,
   "metadata": {
    "deletable": false,
    "editable": false,
    "nbgrader": {
     "cell_type": "code",
     "checksum": "cd48d4627aa74b4a7d9feb2c0d972ab5",
     "grade": true,
     "grade_id": "cell-7e1f34949086168b",
     "locked": true,
     "points": 0.5,
     "schema_version": 3,
     "solution": false,
     "task": false
    }
   },
   "outputs": [],
   "source": [
    "### DO NOT REMOVE THIS CELL ####"
   ]
  },
  {
   "cell_type": "markdown",
   "metadata": {
    "deletable": false,
    "editable": false,
    "nbgrader": {
     "cell_type": "markdown",
     "checksum": "a33b5147428a69a5de0d3e91843709e1",
     "grade": false,
     "grade_id": "cell-a17fb33f6a5b35f3",
     "locked": true,
     "schema_version": 3,
     "solution": false,
     "task": false
    }
   },
   "source": [
    "Finally, use the library function [**silhouette_score**](https://scikit-learn.org/stable/modules/generated/sklearn.metrics.silhouette_score.html) (imported from sklearn.metrics) to compute the silhouette clustering score for your results.<br>\n",
    "Place the result in a variable called **<font color='red'>SC</font>**."
   ]
  },
  {
   "cell_type": "code",
   "execution_count": 143,
   "metadata": {
    "deletable": false,
    "nbgrader": {
     "cell_type": "code",
     "checksum": "7f7a742e136e03843a1a0eab7b874e72",
     "grade": false,
     "grade_id": "cell-1cbf21238ea050f2",
     "locked": false,
     "schema_version": 3,
     "solution": true,
     "task": false
    }
   },
   "outputs": [
    {
     "name": "stdout",
     "output_type": "stream",
     "text": [
      "The silhouette score is: 0.724055\n"
     ]
    }
   ],
   "source": [
    "### \n",
    "### SC = silhouette score\n",
    "###\n",
    "\n",
    "faithful_clusters = np.where(assignments==1)[1]\n",
    "SC = silhouette_score(old_faithful_dataset, faithful_clusters)\n",
    "#raise NotImplementedError()\n",
    "\n",
    "print('The silhouette score is: %f' % SC)"
   ]
  },
  {
   "cell_type": "code",
   "execution_count": 144,
   "metadata": {
    "deletable": false,
    "editable": false,
    "nbgrader": {
     "cell_type": "code",
     "checksum": "fbde4d8e747c4d1aa0abfb2653db2241",
     "grade": true,
     "grade_id": "cell-d24924d23b7a0b8c",
     "locked": true,
     "points": 0.4,
     "schema_version": 3,
     "solution": false,
     "task": false
    }
   },
   "outputs": [],
   "source": [
    "### DO NOT REMOVE THIS CELL ####"
   ]
  },
  {
   "cell_type": "markdown",
   "metadata": {},
   "source": [
    "Does the silhouette score you found indicate that your clustering result is **good/bad/neutral**?\n",
    "<br>\n",
    "Good:Set **<font color='red'>ANS=1</font>** <br>\n",
    "Bad: Set **<font color='red'>ANS=2**</font><br>\n",
    "    Neutral: Set **<font color='red'>ANS=3**</font><br>\n",
    "\n"
   ]
  },
  {
   "cell_type": "code",
   "execution_count": 146,
   "metadata": {
    "deletable": false,
    "nbgrader": {
     "cell_type": "code",
     "checksum": "6eb78901362ac00dc090697d79a11c31",
     "grade": false,
     "grade_id": "cell-439a12294dad0b50",
     "locked": false,
     "schema_version": 3,
     "solution": true,
     "task": false
    }
   },
   "outputs": [
    {
     "name": "stdout",
     "output_type": "stream",
     "text": [
      "The silhousette score shows that the clustering result is: ANS = 1\n"
     ]
    }
   ],
   "source": [
    "###\n",
    "### Set here ANS = 1 or 2 or 3\n",
    "###\n",
    "\n",
    "if SC > 1/3:\n",
    "    ANS = 1\n",
    "elif SC > -1/3 and SC <= 1/3:\n",
    "    ANS = 3\n",
    "elif SC <= -1/3:\n",
    "    ANS = 2\n",
    "print(\"The silhousette score shows that the clustering result is: ANS = {c1}\".format(c1 = ANS))\n",
    "#raise NotImplementedError()"
   ]
  },
  {
   "cell_type": "code",
   "execution_count": 88,
   "metadata": {
    "deletable": false,
    "editable": false,
    "nbgrader": {
     "cell_type": "code",
     "checksum": "345e4ea5d58ab5599524774f453b32e7",
     "grade": true,
     "grade_id": "cell-344da61fce7a167c",
     "locked": true,
     "points": 0.1,
     "schema_version": 3,
     "solution": false,
     "task": false
    }
   },
   "outputs": [],
   "source": [
    "### DO NOT REMOVE THIS CELL ####"
   ]
  }
 ],
 "metadata": {
  "kernelspec": {
   "display_name": "Python 3 (ipykernel)",
   "language": "python",
   "name": "python3"
  },
  "language_info": {
   "codemirror_mode": {
    "name": "ipython",
    "version": 3
   },
   "file_extension": ".py",
   "mimetype": "text/x-python",
   "name": "python",
   "nbconvert_exporter": "python",
   "pygments_lexer": "ipython3",
   "version": "3.9.13"
  }
 },
 "nbformat": 4,
 "nbformat_minor": 4
}
